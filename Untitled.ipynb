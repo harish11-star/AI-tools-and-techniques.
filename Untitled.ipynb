{
 "cells": [
  {
   "cell_type": "code",
   "execution_count": 50,
   "metadata": {},
   "outputs": [],
   "source": [
    "import numpy as np"
   ]
  },
  {
   "cell_type": "code",
   "execution_count": 51,
   "metadata": {},
   "outputs": [],
   "source": [
    "import matplotlib"
   ]
  },
  {
   "cell_type": "code",
   "execution_count": 52,
   "metadata": {},
   "outputs": [],
   "source": [
    "from matplotlib import pyplot as plt"
   ]
  },
  {
   "cell_type": "code",
   "execution_count": 53,
   "metadata": {},
   "outputs": [],
   "source": [
    "import pandas as pd"
   ]
  },
  {
   "cell_type": "code",
   "execution_count": 54,
   "metadata": {},
   "outputs": [
    {
     "name": "stdout",
     "output_type": "stream",
     "text": [
      "(97, 2)\n"
     ]
    }
   ],
   "source": [
    "data=pd.read_csv(\"profitdataset.txt\")\n",
    "print(data.shape)"
   ]
  },
  {
   "cell_type": "code",
   "execution_count": 55,
   "metadata": {},
   "outputs": [],
   "source": [
    "x=data['population'].values\n",
    "y=data['profit'].values"
   ]
  },
  {
   "cell_type": "code",
   "execution_count": 56,
   "metadata": {},
   "outputs": [],
   "source": [
    "plt.scatter(x,y,40,c='r',label='scatter_data',marker='x')\n",
    "plt.xlabel(\"population\")\n",
    "plt.ylabel('profit')\n",
    "plt.title('food_truck_profit_graph')\n",
    "plt.grid(True,color='k')\n",
    "plt.show()"
   ]
  },
  {
   "cell_type": "code",
   "execution_count": 57,
   "metadata": {},
   "outputs": [
    {
     "data": {
      "text/plain": [
       "8.159799999999999"
      ]
     },
     "execution_count": 57,
     "metadata": {},
     "output_type": "execute_result"
    }
   ],
   "source": [
    "mean_x=np.mean(x)\n",
    "mean_y=np.mean(y)\n",
    "n=len(x)\n",
    "mean_x"
   ]
  },
  {
   "cell_type": "code",
   "execution_count": 58,
   "metadata": {},
   "outputs": [
    {
     "name": "stdout",
     "output_type": "stream",
     "text": [
      "1.193033644189594 -3.8957808783118537\n"
     ]
    }
   ],
   "source": [
    "num=0\n",
    "den=0\n",
    "for i in range(n):\n",
    " num=num+((x[i]-mean_x)*(y[i]-mean_y))\n",
    " den=den+((x[i]-mean_x)**2)\n",
    "m=num/den\n",
    "#c=y-m*x\n",
    "c=mean_y-(m*mean_x)\n",
    "print(m,c)"
   ]
  },
  {
   "cell_type": "code",
   "execution_count": 59,
   "metadata": {},
   "outputs": [
    {
     "name": "stdout",
     "output_type": "stream",
     "text": [
      "[ 3.39377399  2.6989512   6.26719552  4.45927234  3.09515767  6.10530086\n",
      "  5.02381586  6.33818102  3.84247394  2.13452698  2.91727635 13.00234766\n",
      "  2.94507404  6.13572322  2.833764    2.52202431  3.69835548  2.22460102\n",
      "  3.77494824  4.53992141  3.48802365 20.28701109  2.65409313  3.65146926\n",
      "  2.74333205 18.70624151 11.40845471  9.17628876 11.82363042 22.59314512\n",
      "  2.37050903  3.96559502  7.13763287  3.13333475  5.90033768  5.56903223\n",
      "  5.7629002   2.79272364 11.41799898  3.68403908  2.55483273  4.31527318\n",
      " 10.07225703  2.99243747  5.43934948  4.56652606  2.1531383   3.02548451\n",
      " 10.06271276  2.71553436  5.09993141  2.43648379  4.96118159  5.17497322\n",
      "  3.65946258  3.69060076  3.58955081  2.83257096  7.21160096  7.38268198\n",
      "  6.63321825  2.28329828 21.49078204 13.88996469 18.72294398  4.71577457\n",
      "  6.0005525   8.3161115   2.66518834 20.37171648  8.19680814  4.85452438\n",
      "  3.2698178   4.72496093  2.10147995  3.91608412  5.09802255  2.11293307\n",
      "  8.36144678  2.19787707  2.93934748  2.29415488  3.68678305  7.75860688\n",
      "  3.87790704  6.26552528  7.05650658  3.26480705  2.69024205  2.14025354\n",
      "  2.91369725  5.21493985  3.10816174  2.43373982  5.99852435 12.08371175\n",
      "  2.59062374]\n"
     ]
    }
   ],
   "source": [
    "y_pred=np.array([]) #to create empty array\n",
    "for i in range(n):\n",
    " p=(m*x[i])+c #y=mx+C\n",
    " y_pred=np.append(y_pred,np.array([p]),axis=0)\n",
    " \n",
    "print(y_pred)"
   ]
  },
  {
   "cell_type": "code",
   "execution_count": 60,
   "metadata": {},
   "outputs": [],
   "source": [
    "#plot the regression line\n",
    "plt.plot(x,y_pred,color='m',label=\"regression_line\")\n",
    "#plot the actual data\n",
    "plt.scatter(x,y,40,c='g',label=\"actual_data\",marker='o')\n",
    "plt.scatter(x,y_pred,40,c='k',label=\"predicted_data\",marker='x')\n",
    "plt.xlabel(\"population\")\n",
    "plt.ylabel('profit')\n",
    "plt.legend()\n",
    "plt.show()"
   ]
  },
  {
   "cell_type": "code",
   "execution_count": 61,
   "metadata": {},
   "outputs": [
    {
     "data": {
      "text/plain": [
       "0.70203155378414"
      ]
     },
     "execution_count": 61,
     "metadata": {},
     "output_type": "execute_result"
    }
   ],
   "source": [
    "nu=0\n",
    "de=0\n",
    "for i in range(n):\n",
    " nu=nu+((y_pred[i]-mean_y)**2) #predicted values of y\n",
    " de=de+((y[i]-mean_y)**2) #actual values of y\n",
    "r2=nu/de\n",
    "r2\n"
   ]
  },
  {
   "cell_type": "code",
   "execution_count": null,
   "metadata": {},
   "outputs": [],
   "source": [
    "x"
   ]
  },
  {
   "cell_type": "code",
   "execution_count": 62,
   "metadata": {},
   "outputs": [
    {
     "name": "stdout",
     "output_type": "stream",
     "text": [
      "profit from 45000 people city is  [14728.70520541] $\n",
      "profit from 65000 people city is  [38589.37808921] $\n"
     ]
    }
   ],
   "source": [
    "X_test = np.array([[4.5],[6.5]])\n",
    "y1=(m*X_test[0])+c\n",
    "y2=(m*X_test[1])+c\n",
    "print('profit from 45000 people city is ',y1*10000,'$')\n",
    "print('profit from 65000 people city is ',y2*10000,'$')"
   ]
  },
  {
   "cell_type": "code",
   "execution_count": null,
   "metadata": {},
   "outputs": [],
   "source": []
  }
 ],
 "metadata": {
  "kernelspec": {
   "display_name": "Python 3",
   "language": "python",
   "name": "python3"
  },
  "language_info": {
   "codemirror_mode": {
    "name": "ipython",
    "version": 3
   },
   "file_extension": ".py",
   "mimetype": "text/x-python",
   "name": "python",
   "nbconvert_exporter": "python",
   "pygments_lexer": "ipython3",
   "version": "3.8.3"
  }
 },
 "nbformat": 4,
 "nbformat_minor": 4
}
